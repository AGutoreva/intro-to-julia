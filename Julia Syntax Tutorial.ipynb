{
 "cells": [
  {
   "cell_type": "markdown",
   "metadata": {},
   "source": [
    "# Julia Syntax Tutorial\n",
    "\n",
    "Everything covered today (and **even more**) can be found [here](http://docs.julialang.org/en/release-0.5/manual/)."
   ]
  },
  {
   "cell_type": "code",
   "execution_count": 19,
   "metadata": {
    "collapsed": false
   },
   "outputs": [
    {
     "data": {
      "text/plain": [
       "1.5707963267948966"
      ]
     },
     "execution_count": 19,
     "metadata": {},
     "output_type": "execute_result"
    }
   ],
   "source": [
    "# Variables\n",
    "\n",
    "x = 3 \n",
    "x = 3.0\n",
    "string = \"Hello world!\"\n",
    "character = 'a'\n",
    "δ = 1e-5\n",
    "\n",
    "pi\n",
    "e\n",
    "α̂₁ = pi / 2"
   ]
  },
  {
   "cell_type": "code",
   "execution_count": 20,
   "metadata": {
    "collapsed": false
   },
   "outputs": [
    {
     "data": {
      "text/plain": [
       "(3,3)"
      ]
     },
     "execution_count": 20,
     "metadata": {},
     "output_type": "execute_result"
    }
   ],
   "source": [
    "# Arrays\n",
    "\n",
    "u = [1 3 5 7]\n",
    "v = ones(4)\n",
    "w = Array(Float64, 2)\n",
    "\n",
    "\n",
    "X = rand(4, 4)\n",
    "I = eye(4)\n",
    "column = [1,2,3]\n",
    "row = [1 2 3]\n",
    "A = [1 2 3; 4 5 6; 7 8 9]\n",
    "b = [[1 2 3] [4 5 6] [7 8 9]]\n",
    "B = reshape(b, 3, 3)\n",
    "C = fill(15, 2, 3)\n",
    "\n",
    "length(A)\n",
    "ndims(A)\n",
    "size(A)"
   ]
  },
  {
   "cell_type": "code",
   "execution_count": 21,
   "metadata": {
    "collapsed": false
   },
   "outputs": [
    {
     "data": {
      "text/plain": [
       "1×2 Array{Int64,2}:\n",
       " 10  11"
      ]
     },
     "execution_count": 21,
     "metadata": {},
     "output_type": "execute_result"
    }
   ],
   "source": [
    "# Array indexing and assignment\n",
    "\n",
    "A[3, 1]\n",
    "A[1,:]\n",
    "A[1:2, 2:end]\n",
    "A[2, [1 3]]\n",
    "\n",
    "A[1:2, 2:3] = -1\n",
    "A[3, 1:2] = [10 11]\n"
   ]
  },
  {
   "cell_type": "code",
   "execution_count": 22,
   "metadata": {
    "collapsed": false
   },
   "outputs": [
    {
     "data": {
      "text/plain": [
       "3×3 Array{Int64,2}:\n",
       "  1  -4  -7\n",
       "  8  -5  -8\n",
       " 30  66  81"
      ]
     },
     "execution_count": 22,
     "metadata": {},
     "output_type": "execute_result"
    }
   ],
   "source": [
    "# Mathematical operations\n",
    "\n",
    "2 + 5\n",
    "3.5 ^ 2\n",
    "[1 2] + [2 3]\n",
    "[1 2] * 1.5\n",
    "A[1, :]' * ones(3)\n",
    "A .* B"
   ]
  },
  {
   "cell_type": "code",
   "execution_count": 23,
   "metadata": {
    "collapsed": false
   },
   "outputs": [
    {
     "data": {
      "text/plain": [
       "1×2 BitArray{2}:\n",
       " true  true"
      ]
     },
     "execution_count": 23,
     "metadata": {},
     "output_type": "execute_result"
    }
   ],
   "source": [
    "# inequalities\n",
    "\n",
    "3.0 > 2.0\n",
    "9 ≤ 9 \n",
    "1 != 2\n",
    "[1 2] .< [2 3]"
   ]
  },
  {
   "cell_type": "code",
   "execution_count": 24,
   "metadata": {
    "collapsed": false
   },
   "outputs": [
    {
     "name": "stdout",
     "output_type": "stream",
     "text": [
      "x is greater than y: 2 > 1\n"
     ]
    }
   ],
   "source": [
    "# Control flow (and string interpolation!)\n",
    "x = 2\n",
    "y = 1\n",
    "if x < y\n",
    "    println(\"x is less than y: $x < $y\")\n",
    "elseif x > y\n",
    "  println(\"x is greater than y: $x > $y\")\n",
    "else\n",
    "  println(\"x is equal to y: $x = $y\")\n",
    "end"
   ]
  },
  {
   "cell_type": "code",
   "execution_count": 25,
   "metadata": {
    "collapsed": false
   },
   "outputs": [
    {
     "name": "stdout",
     "output_type": "stream",
     "text": [
      "1\n",
      "2\n",
      "3\n",
      "4\n",
      "5\n"
     ]
    }
   ],
   "source": [
    "i = 1\n",
    "while i <= 5\n",
    "    println(i)\n",
    "    i += 1 \n",
    "end"
   ]
  },
  {
   "cell_type": "code",
   "execution_count": 26,
   "metadata": {
    "collapsed": false
   },
   "outputs": [
    {
     "name": "stdout",
     "output_type": "stream",
     "text": [
      "1\n",
      "2\n"
     ]
    }
   ],
   "source": [
    "for i = 1:5\n",
    "    if i == 3\n",
    "        # `continue` skips to the next iteration in the for-loop;\n",
    "        # `break` breaks out of the enclosing for-loop\n",
    "        # continue\n",
    "        break\n",
    "    end\n",
    "    println(i)\n",
    "end"
   ]
  },
  {
   "cell_type": "code",
   "execution_count": 27,
   "metadata": {
    "collapsed": false
   },
   "outputs": [
    {
     "name": "stdout",
     "output_type": "stream",
     "text": [
      "1\n",
      "3\n",
      "5\n",
      "7\n"
     ]
    }
   ],
   "source": [
    "u = [1,3,5,7]\n",
    "for i in u\n",
    "    println(i)\n",
    "end"
   ]
  },
  {
   "cell_type": "markdown",
   "metadata": {},
   "source": [
    "# functions"
   ]
  },
  {
   "cell_type": "code",
   "execution_count": 28,
   "metadata": {
    "collapsed": false
   },
   "outputs": [
    {
     "name": "stderr",
     "output_type": "stream",
     "text": [
      "WARNING: Method definition inline_f(Any) in module Main at In[15]:2 overwritten at In[28]:2.\n",
      "WARNING: Method definition f(Any) in module Main at In[17]:3 overwritten at In[28]:5.\n"
     ]
    },
    {
     "data": {
      "text/plain": [
       "(::#19) (generic function with 1 method)"
      ]
     },
     "execution_count": 28,
     "metadata": {},
     "output_type": "execute_result"
    }
   ],
   "source": [
    "# these three syntaxes all define the function f(x) = 2x\n",
    "inline_f(x) = 2*x\n",
    "\n",
    "function f(x)\n",
    "    return 2*x\n",
    "end\n",
    "\n",
    "x -> 2*x"
   ]
  },
  {
   "cell_type": "code",
   "execution_count": 29,
   "metadata": {
    "collapsed": false
   },
   "outputs": [
    {
     "name": "stdout",
     "output_type": "stream",
     "text": [
      "f(2) = 4\n",
      "f(2,3) = 6\n"
     ]
    },
    {
     "name": "stderr",
     "output_type": "stream",
     "text": [
      "WARNING: Method definition f(Any) in module Main at In[28]:5 overwritten at In[29]:3.\n",
      "WARNING: Method definition f(Any, Any) in module Main at In[17]:3 overwritten at In[29]:3.\n"
     ]
    },
    {
     "data": {
      "text/plain": [
       "6"
      ]
     },
     "execution_count": 29,
     "metadata": {},
     "output_type": "execute_result"
    }
   ],
   "source": [
    "# default values for positional arguments\n",
    "function f(x, mult=2)\n",
    "    return mult*x\n",
    "end\n",
    "@show f(2)    # ==4\n",
    "@show f(2, 3) # ==6"
   ]
  },
  {
   "cell_type": "code",
   "execution_count": 30,
   "metadata": {
    "collapsed": false
   },
   "outputs": [
    {
     "name": "stdout",
     "output_type": "stream",
     "text": [
      "f(2) = 4\n",
      "f(2,mult=3) = "
     ]
    },
    {
     "name": "stderr",
     "output_type": "stream",
     "text": [
      "WARNING: Method definition f(Any) in module Main at In[29]:3 overwritten at In[30]:3.\n"
     ]
    },
    {
     "name": "stdout",
     "output_type": "stream",
     "text": [
      "6\n"
     ]
    },
    {
     "data": {
      "text/plain": [
       "6"
      ]
     },
     "execution_count": 30,
     "metadata": {},
     "output_type": "execute_result"
    }
   ],
   "source": [
    "# default values for keyword arguments: use a semicolon instead of a comma\n",
    "function f(x; mult=2)\n",
    "    return mult*x\n",
    "end\n",
    "@show f(2)         # ==4\n",
    "@show f(2, mult=3) # ==6"
   ]
  },
  {
   "cell_type": "code",
   "execution_count": 31,
   "metadata": {
    "collapsed": false
   },
   "outputs": [
    {
     "name": "stdout",
     "output_type": "stream",
     "text": [
      "1\n",
      "2\n",
      "3\n",
      "4\n",
      "a\n",
      "b\n",
      "c\n"
     ]
    }
   ],
   "source": [
    "# variable number of arguments\n",
    "function f(x...)\n",
    "    for xi in x\n",
    "        println(xi)\n",
    "    end\n",
    "end\n",
    "f(1,2,3,4,\"a\",\"b\",\"c\")"
   ]
  },
  {
   "cell_type": "code",
   "execution_count": 32,
   "metadata": {
    "collapsed": false
   },
   "outputs": [
    {
     "data": {
      "text/plain": [
       "50-element Array{Int64,1}:\n",
       "      1\n",
       "      1\n",
       "      1\n",
       "      1\n",
       "      1\n",
       "      2\n",
       "      4\n",
       "      8\n",
       "     16\n",
       "     32\n",
       "      3\n",
       "      9\n",
       "     27\n",
       "      ⋮\n",
       "   4096\n",
       "  32768\n",
       "      9\n",
       "     81\n",
       "    729\n",
       "   6561\n",
       "  59049\n",
       "     10\n",
       "    100\n",
       "   1000\n",
       "  10000\n",
       " 100000"
      ]
     },
     "execution_count": 32,
     "metadata": {},
     "output_type": "execute_result"
    }
   ],
   "source": [
    "# list comprehensions: shorthand for loops (not very memory efficient)\n",
    "[x^2 for x in 1:5]\n",
    "[x^2 for x in 1:5 if x>2]\n",
    "[x^k for x in 1:10 for k in 1:5]"
   ]
  },
  {
   "cell_type": "code",
   "execution_count": 33,
   "metadata": {
    "collapsed": false
   },
   "outputs": [
    {
     "data": {
      "text/plain": [
       "7"
      ]
     },
     "execution_count": 33,
     "metadata": {},
     "output_type": "execute_result"
    }
   ],
   "source": [
    "# dictionaries and sets\n",
    "\n",
    "x = Set([1,2,3,3,4,1])\n",
    "y = Set([1,5])\n",
    "union(x, y)\n",
    "intersect(x, y)\n",
    "d = Dict()\n",
    "d[4] = 7\n",
    "d['a'] = 2\n",
    "get(d, 4, -1)\n"
   ]
  },
  {
   "cell_type": "markdown",
   "metadata": {},
   "source": [
    "# Types and multiple dispatch"
   ]
  },
  {
   "cell_type": "code",
   "execution_count": 34,
   "metadata": {
    "collapsed": false
   },
   "outputs": [
    {
     "data": {
      "text/plain": [
       "1.0"
      ]
     },
     "execution_count": 34,
     "metadata": {},
     "output_type": "execute_result"
    }
   ],
   "source": [
    "# x::y is an assertion that x is a variable of type y\n",
    "\n",
    "1.0::Float64"
   ]
  },
  {
   "cell_type": "code",
   "execution_count": 35,
   "metadata": {
    "collapsed": false
   },
   "outputs": [
    {
     "ename": "LoadError",
     "evalue": "LoadError: TypeError: typeassert: expected Int64, got Float64\nwhile loading In[35], in expression starting on line 2",
     "output_type": "error",
     "traceback": [
      "LoadError: TypeError: typeassert: expected Int64, got Float64\nwhile loading In[35], in expression starting on line 2",
      ""
     ]
    }
   ],
   "source": [
    "# if we assert something false, we get a type error \n",
    "1.0::Int"
   ]
  },
  {
   "cell_type": "code",
   "execution_count": 36,
   "metadata": {
    "collapsed": false
   },
   "outputs": [
    {
     "name": "stdout",
     "output_type": "stream",
     "text": [
      "2 is an integer\n",
      "2.0 is an float\n"
     ]
    }
   ],
   "source": [
    "# we can define many functions with the same name, which call arguments of different types\n",
    "# julia decides which to call by looking at the type of the argument\n",
    "\n",
    "f(x::Int) = println(\"$x is an integer\")\n",
    "f(x::Float64) = println(\"$x is an float\")\n",
    "f(2)\n",
    "f(2.0)"
   ]
  },
  {
   "cell_type": "code",
   "execution_count": 37,
   "metadata": {
    "collapsed": false
   },
   "outputs": [
    {
     "data": {
      "text/plain": [
       "Student(\"Bob\",3.2)"
      ]
     },
     "execution_count": 37,
     "metadata": {},
     "output_type": "execute_result"
    }
   ],
   "source": [
    "type Student\n",
    "    name::String    \n",
    "    gpa::Float64\n",
    "end\n",
    "\n",
    "s1 = Student(\"Alice\", 3.9)\n",
    "s2 = Student(\"Bob\", 3.2)"
   ]
  },
  {
   "cell_type": "code",
   "execution_count": 38,
   "metadata": {
    "collapsed": false
   },
   "outputs": [
    {
     "data": {
      "text/plain": [
       "\"Alice\""
      ]
     },
     "execution_count": 38,
     "metadata": {},
     "output_type": "execute_result"
    }
   ],
   "source": [
    "s1.name"
   ]
  },
  {
   "cell_type": "code",
   "execution_count": 39,
   "metadata": {
    "collapsed": false
   },
   "outputs": [
    {
     "name": "stdout",
     "output_type": "stream",
     "text": [
      "Alice has a 3.9 gpa\n",
      "Bob has a 3.2 gpa\n",
      "4 is an integer\n",
      "1.4142135623730951 is an float\n"
     ]
    }
   ],
   "source": [
    "f(s::Student) = println(\"$(s.name) has a $(s.gpa) gpa\")\n",
    "\n",
    "# we've defined the \"f\" function on three different types\n",
    "# julia knows to call the right one by looking at the type of the argument\n",
    "\n",
    "f(s1)\n",
    "f(s2)\n",
    "f(4)\n",
    "f(sqrt(2))"
   ]
  }
 ],
 "metadata": {
  "kernelspec": {
   "display_name": "Julia 0.5.0",
   "language": "julia",
   "name": "julia-0.5"
  },
  "language_info": {
   "file_extension": ".jl",
   "mimetype": "application/julia",
   "name": "julia",
   "version": "0.5.0"
  }
 },
 "nbformat": 4,
 "nbformat_minor": 0
}
